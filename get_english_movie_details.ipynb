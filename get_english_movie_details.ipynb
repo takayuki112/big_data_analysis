{
 "cells": [
  {
   "cell_type": "code",
   "execution_count": 51,
   "metadata": {},
   "outputs": [],
   "source": [
    "from pyspark.sql import SparkSession\n",
    "from pyspark.sql.functions import col, udf\n",
    "from pyspark.sql.types import BooleanType\n",
    "\n",
    "from langdetect import detect\n"
   ]
  },
  {
   "cell_type": "code",
   "execution_count": 52,
   "metadata": {},
   "outputs": [],
   "source": [
    "spark = SparkSession.builder \\\n",
    "    .appName(\"EntityResolution\") \\\n",
    "    .getOrCreate()"
   ]
  },
  {
   "cell_type": "code",
   "execution_count": 53,
   "metadata": {},
   "outputs": [],
   "source": [
    "import pandas as pd\n",
    "df = pd.read_csv('data/movie_name_data.csv')"
   ]
  },
  {
   "cell_type": "code",
   "execution_count": 54,
   "metadata": {},
   "outputs": [
    {
     "name": "stdout",
     "output_type": "stream",
     "text": [
      "+---------+--------------------+--------------------+--------------------+-----+---------------+\n",
      "|  imdb_id|               title|       plot_synopsis|                tags|split|synopsis_source|\n",
      "+---------+--------------------+--------------------+--------------------+-----+---------------+\n",
      "|tt0057603|I tre volti della...|Note: this synops...|cult, horror, got...|train|           imdb|\n",
      "|tt1733125|Dungeons & Dragon...|Two thousand year...|            violence|train|           imdb|\n",
      "|tt0033045|The Shop Around t...|Matuschek's, a gi...|            romantic| test|           imdb|\n",
      "|tt0113862|  Mr. Holland's Opus|Glenn Holland, no...|inspiring, romant...|train|           imdb|\n",
      "|tt0086250|            Scarface|In May 1980, a Cu...|cruelty, murder, ...|  val|           imdb|\n",
      "|tt1315981|        A Single Man|George Falconer (...|romantic, queer, ...|  val|           imdb|\n",
      "|tt0249380|           Baise-moi|Baise-moi tells t...|gothic, cruelty, ...|train|      wikipedia|\n",
      "|tt0408790|          Flightplan|Kyle Pratt (Jodie...|mystery, suspense...|train|           imdb|\n",
      "|tt0021079|       Little Caesar|Small-time Italia...|            violence|train|           imdb|\n",
      "|tt1615065|             Savages|The movie begins ...|revenge, neo noir...|train|           imdb|\n",
      "|tt0089606|   Mitt liv som hund|The action takes ...|         cult, prank|train|      wikipedia|\n",
      "|tt0078908|           The Brood|At the Somafree I...|cult, psychedelic...|train|           imdb|\n",
      "|tt0795493|   Cassandra's Dream|Brothers Terry (C...|tragedy, dramatic...|train|      wikipedia|\n",
      "|tt0093389|    The Last Emperor|Arrival.\\nA train...|              murder|train|           imdb|\n",
      "|tt0120899|      My Life So Far|The film tells th...|flashback, autobi...|train|      wikipedia|\n",
      "|tt1937113|Call of Duty: Mod...|Hours after the e...|    good versus evil| test|           imdb|\n",
      "|tt1232776|           Fish Tank|We open with Mia ...|suspenseful, depr...|train|           imdb|\n",
      "|tt0402399|       The New World|Over a shot of tr...|boring, murder, c...|train|           imdb|\n",
      "|tt1619029|              Jackie|The film begins w...|           flashback|  val|           imdb|\n",
      "|tt0102007|         The Haunted|This creepy and s...|paranormal, horro...| test|           imdb|\n",
      "+---------+--------------------+--------------------+--------------------+-----+---------------+\n",
      "only showing top 20 rows\n",
      "\n"
     ]
    },
    {
     "name": "stderr",
     "output_type": "stream",
     "text": [
      "24/10/22 01:47:04 WARN TaskSetManager: Stage 155 contains a task of very large size (7196 KiB). The maximum recommended task size is 1000 KiB.\n"
     ]
    }
   ],
   "source": [
    "movie_df = spark.read.csv(\"data/movie_name_data.csv\", header=True, inferSchema=True, multiLine=True)\n",
    "movie_df = spark.createDataFrame(df)\n",
    "movie_df.show()"
   ]
  },
  {
   "cell_type": "code",
   "execution_count": 65,
   "metadata": {},
   "outputs": [
    {
     "name": "stdout",
     "output_type": "stream",
     "text": [
      "root\n",
      " |-- imdb_id: string (nullable = true)\n",
      " |-- title: string (nullable = true)\n",
      " |-- plot_synopsis: string (nullable = true)\n",
      " |-- tags: string (nullable = true)\n",
      " |-- split: string (nullable = true)\n",
      " |-- synopsis_source: string (nullable = true)\n",
      "\n"
     ]
    },
    {
     "name": "stderr",
     "output_type": "stream",
     "text": [
      "24/10/22 01:53:38 WARN TaskSetManager: Stage 209 contains a task of very large size (7196 KiB). The maximum recommended task size is 1000 KiB.\n"
     ]
    },
    {
     "name": "stdout",
     "output_type": "stream",
     "text": [
      "\n",
      "Total Number of movies =  14828\n"
     ]
    }
   ],
   "source": [
    "movie_df.printSchema()\n",
    "print(\"\\nTotal Number of movies = \", movie_df.count())"
   ]
  },
  {
   "cell_type": "code",
   "execution_count": 56,
   "metadata": {},
   "outputs": [],
   "source": [
    "def is_english(title):\n",
    "    try:\n",
    "        return detect(title) == \"en\"\n",
    "    except:\n",
    "        return False\n",
    "\n",
    "is_english_udf = udf(is_english, BooleanType())"
   ]
  },
  {
   "cell_type": "code",
   "execution_count": 66,
   "metadata": {},
   "outputs": [
    {
     "name": "stderr",
     "output_type": "stream",
     "text": [
      "24/10/22 01:54:26 WARN TaskSetManager: Stage 212 contains a task of very large size (7196 KiB). The maximum recommended task size is 1000 KiB.\n",
      "24/10/22 01:54:31 WARN TaskSetManager: Stage 213 contains a task of very large size (7196 KiB). The maximum recommended task size is 1000 KiB.\n"
     ]
    },
    {
     "name": "stdout",
     "output_type": "stream",
     "text": [
      "+---------+--------------------+--------------------+--------------------+-----+---------------+\n",
      "|  imdb_id|               title|       plot_synopsis|                tags|split|synopsis_source|\n",
      "+---------+--------------------+--------------------+--------------------+-----+---------------+\n",
      "|tt1733125|Dungeons & Dragon...|Two thousand year...|            violence|train|           imdb|\n",
      "|tt0033045|The Shop Around t...|Matuschek's, a gi...|            romantic| test|           imdb|\n",
      "|tt0113862|  Mr. Holland's Opus|Glenn Holland, no...|inspiring, romant...|train|           imdb|\n",
      "|tt0408790|          Flightplan|Kyle Pratt (Jodie...|mystery, suspense...|train|           imdb|\n",
      "|tt0078908|           The Brood|At the Somafree I...|cult, psychedelic...|train|           imdb|\n",
      "|tt0795493|   Cassandra's Dream|Brothers Terry (C...|tragedy, dramatic...|train|      wikipedia|\n",
      "|tt0093389|    The Last Emperor|Arrival.\\nA train...|              murder|train|           imdb|\n",
      "|tt0120899|      My Life So Far|The film tells th...|flashback, autobi...|train|      wikipedia|\n",
      "|tt1937113|Call of Duty: Mod...|Hours after the e...|    good versus evil| test|           imdb|\n",
      "|tt1232776|           Fish Tank|We open with Mia ...|suspenseful, depr...|train|           imdb|\n",
      "|tt0402399|       The New World|Over a shot of tr...|boring, murder, c...|train|           imdb|\n",
      "|tt0102007|         The Haunted|This creepy and s...|paranormal, horro...| test|           imdb|\n",
      "|tt0398712|Assault on Precin...|On New Years Eve,...|suspenseful, neo ...|  val|           imdb|\n",
      "|tt0036868|The Best Years of...|After World War I...|romantic, histori...|train|      wikipedia|\n",
      "|tt1454029|            The Help|In civil-rights e...|historical, feel-...|  val|           imdb|\n",
      "|tt1411238| No Strings Attached|15 years agoWe se...|boring, adult com...| test|           imdb|\n",
      "|tt0118689|                Bean|Mr. Bean (Rowan A...|cult, comedy, ent...|train|           imdb|\n",
      "|tt0055505|       Taste of Fear|** CONTAINS SPOIL...|              murder|train|           imdb|\n",
      "|tt0053559|           13 Ghosts|The movie opens w...|     revenge, murder| test|           imdb|\n",
      "|tt0087472|      The Initiation|Kelly Fairchild i...|cult, murder, vio...|train|           imdb|\n",
      "+---------+--------------------+--------------------+--------------------+-----+---------------+\n",
      "only showing top 20 rows\n",
      "\n"
     ]
    },
    {
     "name": "stderr",
     "output_type": "stream",
     "text": [
      "[Stage 213:=============================================>         (10 + 2) / 12]\r"
     ]
    },
    {
     "name": "stdout",
     "output_type": "stream",
     "text": [
      "\n",
      "Total Number of English movies =  8173\n"
     ]
    },
    {
     "name": "stderr",
     "output_type": "stream",
     "text": [
      "                                                                                \r"
     ]
    }
   ],
   "source": [
    "english_movies_df = movie_df.filter(is_english_udf(col(\"title\")))\n",
    "\n",
    "english_movies_df.show()\n",
    "print(\"\\nTotal Number of English movies = \", english_movies_df.count())"
   ]
  },
  {
   "cell_type": "code",
   "execution_count": 75,
   "metadata": {},
   "outputs": [
    {
     "name": "stderr",
     "output_type": "stream",
     "text": [
      "24/10/22 02:26:44 WARN TaskSetManager: Stage 218 contains a task of very large size (7196 KiB). The maximum recommended task size is 1000 KiB.\n",
      "                                                                                \r"
     ]
    }
   ],
   "source": [
    "pandas_df = english_movies_df.toPandas()\n",
    "pandas_df.to_csv('data/english_movies.csv', index=False)"
   ]
  },
  {
   "cell_type": "code",
   "execution_count": 77,
   "metadata": {},
   "outputs": [
    {
     "data": {
      "text/html": [
       "<div>\n",
       "<style scoped>\n",
       "    .dataframe tbody tr th:only-of-type {\n",
       "        vertical-align: middle;\n",
       "    }\n",
       "\n",
       "    .dataframe tbody tr th {\n",
       "        vertical-align: top;\n",
       "    }\n",
       "\n",
       "    .dataframe thead th {\n",
       "        text-align: right;\n",
       "    }\n",
       "</style>\n",
       "<table border=\"1\" class=\"dataframe\">\n",
       "  <thead>\n",
       "    <tr style=\"text-align: right;\">\n",
       "      <th></th>\n",
       "      <th>imdb_id</th>\n",
       "      <th>title</th>\n",
       "      <th>plot_synopsis</th>\n",
       "      <th>tags</th>\n",
       "      <th>split</th>\n",
       "      <th>synopsis_source</th>\n",
       "    </tr>\n",
       "  </thead>\n",
       "  <tbody>\n",
       "    <tr>\n",
       "      <th>0</th>\n",
       "      <td>tt1733125</td>\n",
       "      <td>Dungeons &amp; Dragons: The Book of Vile Darkness</td>\n",
       "      <td>Two thousand years ago, Nhagruul the Foul, a s...</td>\n",
       "      <td>violence</td>\n",
       "      <td>train</td>\n",
       "      <td>imdb</td>\n",
       "    </tr>\n",
       "    <tr>\n",
       "      <th>1</th>\n",
       "      <td>tt0033045</td>\n",
       "      <td>The Shop Around the Corner</td>\n",
       "      <td>Matuschek's, a gift store in Budapest, is the ...</td>\n",
       "      <td>romantic</td>\n",
       "      <td>test</td>\n",
       "      <td>imdb</td>\n",
       "    </tr>\n",
       "    <tr>\n",
       "      <th>2</th>\n",
       "      <td>tt0113862</td>\n",
       "      <td>Mr. Holland's Opus</td>\n",
       "      <td>Glenn Holland, not a morning person by anyone'...</td>\n",
       "      <td>inspiring, romantic, stupid, feel-good</td>\n",
       "      <td>train</td>\n",
       "      <td>imdb</td>\n",
       "    </tr>\n",
       "    <tr>\n",
       "      <th>3</th>\n",
       "      <td>tt0408790</td>\n",
       "      <td>Flightplan</td>\n",
       "      <td>Kyle Pratt (Jodie Foster) is a propulsion engi...</td>\n",
       "      <td>mystery, suspenseful, action, murder, flashback</td>\n",
       "      <td>train</td>\n",
       "      <td>imdb</td>\n",
       "    </tr>\n",
       "    <tr>\n",
       "      <th>4</th>\n",
       "      <td>tt0078908</td>\n",
       "      <td>The Brood</td>\n",
       "      <td>At the Somafree Institute, Dr. Hal Raglan humi...</td>\n",
       "      <td>cult, psychedelic, murder, violence</td>\n",
       "      <td>train</td>\n",
       "      <td>imdb</td>\n",
       "    </tr>\n",
       "    <tr>\n",
       "      <th>...</th>\n",
       "      <td>...</td>\n",
       "      <td>...</td>\n",
       "      <td>...</td>\n",
       "      <td>...</td>\n",
       "      <td>...</td>\n",
       "      <td>...</td>\n",
       "    </tr>\n",
       "    <tr>\n",
       "      <th>8140</th>\n",
       "      <td>tt0074646</td>\n",
       "      <td>Hot Potato</td>\n",
       "      <td>Hot Potato begins in Chang Lan, a fictional co...</td>\n",
       "      <td>blaxploitation</td>\n",
       "      <td>train</td>\n",
       "      <td>wikipedia</td>\n",
       "    </tr>\n",
       "    <tr>\n",
       "      <th>8141</th>\n",
       "      <td>tt0025601</td>\n",
       "      <td>One Night of Love</td>\n",
       "      <td>Opera singer Mary Barrett (Grace Moore) leaves...</td>\n",
       "      <td>romantic</td>\n",
       "      <td>val</td>\n",
       "      <td>wikipedia</td>\n",
       "    </tr>\n",
       "    <tr>\n",
       "      <th>8142</th>\n",
       "      <td>tt0063443</td>\n",
       "      <td>Play Dirty</td>\n",
       "      <td>During the North African Campaign in World War...</td>\n",
       "      <td>anti war</td>\n",
       "      <td>train</td>\n",
       "      <td>wikipedia</td>\n",
       "    </tr>\n",
       "    <tr>\n",
       "      <th>8143</th>\n",
       "      <td>tt0039464</td>\n",
       "      <td>High Wall</td>\n",
       "      <td>Steven Kenet catches his unfaithful wife in th...</td>\n",
       "      <td>murder</td>\n",
       "      <td>test</td>\n",
       "      <td>wikipedia</td>\n",
       "    </tr>\n",
       "    <tr>\n",
       "      <th>8144</th>\n",
       "      <td>tt0235166</td>\n",
       "      <td>Against All Hope</td>\n",
       "      <td>Sometime in the 1950s in Chicago a man, Cecil ...</td>\n",
       "      <td>christian film</td>\n",
       "      <td>test</td>\n",
       "      <td>wikipedia</td>\n",
       "    </tr>\n",
       "  </tbody>\n",
       "</table>\n",
       "<p>8145 rows × 6 columns</p>\n",
       "</div>"
      ],
      "text/plain": [
       "        imdb_id                                          title  \\\n",
       "0     tt1733125  Dungeons & Dragons: The Book of Vile Darkness   \n",
       "1     tt0033045                     The Shop Around the Corner   \n",
       "2     tt0113862                             Mr. Holland's Opus   \n",
       "3     tt0408790                                     Flightplan   \n",
       "4     tt0078908                                      The Brood   \n",
       "...         ...                                            ...   \n",
       "8140  tt0074646                                     Hot Potato   \n",
       "8141  tt0025601                              One Night of Love   \n",
       "8142  tt0063443                                     Play Dirty   \n",
       "8143  tt0039464                                      High Wall   \n",
       "8144  tt0235166                               Against All Hope   \n",
       "\n",
       "                                          plot_synopsis  \\\n",
       "0     Two thousand years ago, Nhagruul the Foul, a s...   \n",
       "1     Matuschek's, a gift store in Budapest, is the ...   \n",
       "2     Glenn Holland, not a morning person by anyone'...   \n",
       "3     Kyle Pratt (Jodie Foster) is a propulsion engi...   \n",
       "4     At the Somafree Institute, Dr. Hal Raglan humi...   \n",
       "...                                                 ...   \n",
       "8140  Hot Potato begins in Chang Lan, a fictional co...   \n",
       "8141  Opera singer Mary Barrett (Grace Moore) leaves...   \n",
       "8142  During the North African Campaign in World War...   \n",
       "8143  Steven Kenet catches his unfaithful wife in th...   \n",
       "8144  Sometime in the 1950s in Chicago a man, Cecil ...   \n",
       "\n",
       "                                                 tags  split synopsis_source  \n",
       "0                                            violence  train            imdb  \n",
       "1                                            romantic   test            imdb  \n",
       "2              inspiring, romantic, stupid, feel-good  train            imdb  \n",
       "3     mystery, suspenseful, action, murder, flashback  train            imdb  \n",
       "4                 cult, psychedelic, murder, violence  train            imdb  \n",
       "...                                               ...    ...             ...  \n",
       "8140                                   blaxploitation  train       wikipedia  \n",
       "8141                                         romantic    val       wikipedia  \n",
       "8142                                         anti war  train       wikipedia  \n",
       "8143                                           murder   test       wikipedia  \n",
       "8144                                   christian film   test       wikipedia  \n",
       "\n",
       "[8145 rows x 6 columns]"
      ]
     },
     "execution_count": 77,
     "metadata": {},
     "output_type": "execute_result"
    }
   ],
   "source": [
    "df2 = pd.read_csv('data/english_movies.csv')\n",
    "df2"
   ]
  },
  {
   "cell_type": "code",
   "execution_count": null,
   "metadata": {},
   "outputs": [],
   "source": []
  },
  {
   "cell_type": "code",
   "execution_count": null,
   "metadata": {},
   "outputs": [],
   "source": []
  }
 ],
 "metadata": {
  "kernelspec": {
   "display_name": "Python 3",
   "language": "python",
   "name": "python3"
  },
  "language_info": {
   "codemirror_mode": {
    "name": "ipython",
    "version": 3
   },
   "file_extension": ".py",
   "mimetype": "text/x-python",
   "name": "python",
   "nbconvert_exporter": "python",
   "pygments_lexer": "ipython3",
   "version": "3.10.12"
  }
 },
 "nbformat": 4,
 "nbformat_minor": 2
}
